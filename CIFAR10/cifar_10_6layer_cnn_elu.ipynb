{
 "cells": [
  {
   "cell_type": "code",
   "execution_count": 1,
   "metadata": {
    "colab": {
     "base_uri": "https://localhost:8080/",
     "height": 81
    },
    "colab_type": "code",
    "id": "qQcWd0qB8XPf",
    "outputId": "eb670b14-1fbf-4d85-b9d9-399904178360"
   },
   "outputs": [
    {
     "name": "stderr",
     "output_type": "stream",
     "text": [
      "Using TensorFlow backend.\n"
     ]
    },
    {
     "data": {
      "text/html": [
       "<p style=\"color: red;\">\n",
       "The default version of TensorFlow in Colab will soon switch to TensorFlow 2.x.<br>\n",
       "We recommend you <a href=\"https://www.tensorflow.org/guide/migrate\" target=\"_blank\">upgrade</a> now \n",
       "or ensure your notebook will continue to use TensorFlow 1.x via the <code>%tensorflow_version 1.x</code> magic:\n",
       "<a href=\"https://colab.research.google.com/notebooks/tensorflow_version.ipynb\" target=\"_blank\">more info</a>.</p>\n"
      ],
      "text/plain": [
       "<IPython.core.display.HTML object>"
      ]
     },
     "metadata": {
      "tags": []
     },
     "output_type": "display_data"
    }
   ],
   "source": [
    "import keras\n",
    "from keras.models import Sequential\n",
    "from keras.utils import np_utils\n",
    "from keras.preprocessing.image import ImageDataGenerator\n",
    "from keras.layers import Dense, Activation, Flatten, Dropout, BatchNormalization\n",
    "from keras.layers import Conv2D, MaxPooling2D\n",
    "from keras.datasets import cifar10\n",
    "from keras import regularizers\n",
    "from keras.callbacks import LearningRateScheduler\n",
    "import numpy as np"
   ]
  },
  {
   "cell_type": "code",
   "execution_count": 0,
   "metadata": {
    "colab": {},
    "colab_type": "code",
    "id": "0kPUZ8NG8dFX"
   },
   "outputs": [],
   "source": [
    "def lr_schedule(epoch):\n",
    "    lrate = 0.001\n",
    "    if epoch > 75:\n",
    "        lrate = 0.0005\n",
    "    elif epoch > 100:\n",
    "        lrate = 0.0003        \n",
    "    return lrate"
   ]
  },
  {
   "cell_type": "code",
   "execution_count": 3,
   "metadata": {
    "colab": {
     "base_uri": "https://localhost:8080/",
     "height": 52
    },
    "colab_type": "code",
    "id": "Y82Izzcb8qaC",
    "outputId": "4c4e167c-3e20-4ec2-aa0c-9b05cf8a1e3b"
   },
   "outputs": [
    {
     "name": "stdout",
     "output_type": "stream",
     "text": [
      "Downloading data from https://www.cs.toronto.edu/~kriz/cifar-10-python.tar.gz\n",
      "170500096/170498071 [==============================] - 2s 0us/step\n"
     ]
    }
   ],
   "source": [
    "(x_train, y_train), (x_test, y_test) = cifar10.load_data()\n",
    "x_train = x_train.astype('float32')\n",
    "x_test = x_test.astype('float32')"
   ]
  },
  {
   "cell_type": "code",
   "execution_count": 0,
   "metadata": {
    "colab": {},
    "colab_type": "code",
    "id": "M9N4Si9W8rzc"
   },
   "outputs": [],
   "source": [
    "#z-score\n",
    "mean = np.mean(x_train,axis=(0,1,2,3))\n",
    "std = np.std(x_train,axis=(0,1,2,3))\n",
    "x_train = (x_train-mean)/(std+1e-7)\n",
    "x_test = (x_test-mean)/(std+1e-7)"
   ]
  },
  {
   "cell_type": "code",
   "execution_count": 0,
   "metadata": {
    "colab": {},
    "colab_type": "code",
    "id": "obaw_P808t-S"
   },
   "outputs": [],
   "source": [
    "num_classes = 10\n",
    "y_train = np_utils.to_categorical(y_train,num_classes)\n",
    "y_test = np_utils.to_categorical(y_test,num_classes)"
   ]
  },
  {
   "cell_type": "code",
   "execution_count": 6,
   "metadata": {
    "colab": {
     "base_uri": "https://localhost:8080/",
     "height": 1000
    },
    "colab_type": "code",
    "id": "Q6pN5Cm78wKY",
    "outputId": "47a2e90f-12a4-4de7-a4d7-4a6651cf88bd"
   },
   "outputs": [
    {
     "name": "stdout",
     "output_type": "stream",
     "text": [
      "WARNING:tensorflow:From /usr/local/lib/python3.6/dist-packages/keras/backend/tensorflow_backend.py:66: The name tf.get_default_graph is deprecated. Please use tf.compat.v1.get_default_graph instead.\n",
      "\n",
      "WARNING:tensorflow:From /usr/local/lib/python3.6/dist-packages/keras/backend/tensorflow_backend.py:541: The name tf.placeholder is deprecated. Please use tf.compat.v1.placeholder instead.\n",
      "\n",
      "WARNING:tensorflow:From /usr/local/lib/python3.6/dist-packages/keras/backend/tensorflow_backend.py:4432: The name tf.random_uniform is deprecated. Please use tf.random.uniform instead.\n",
      "\n",
      "WARNING:tensorflow:From /usr/local/lib/python3.6/dist-packages/keras/backend/tensorflow_backend.py:190: The name tf.get_default_session is deprecated. Please use tf.compat.v1.get_default_session instead.\n",
      "\n",
      "WARNING:tensorflow:From /usr/local/lib/python3.6/dist-packages/keras/backend/tensorflow_backend.py:197: The name tf.ConfigProto is deprecated. Please use tf.compat.v1.ConfigProto instead.\n",
      "\n",
      "WARNING:tensorflow:From /usr/local/lib/python3.6/dist-packages/keras/backend/tensorflow_backend.py:203: The name tf.Session is deprecated. Please use tf.compat.v1.Session instead.\n",
      "\n",
      "WARNING:tensorflow:From /usr/local/lib/python3.6/dist-packages/keras/backend/tensorflow_backend.py:207: The name tf.global_variables is deprecated. Please use tf.compat.v1.global_variables instead.\n",
      "\n",
      "WARNING:tensorflow:From /usr/local/lib/python3.6/dist-packages/keras/backend/tensorflow_backend.py:216: The name tf.is_variable_initialized is deprecated. Please use tf.compat.v1.is_variable_initialized instead.\n",
      "\n",
      "WARNING:tensorflow:From /usr/local/lib/python3.6/dist-packages/keras/backend/tensorflow_backend.py:223: The name tf.variables_initializer is deprecated. Please use tf.compat.v1.variables_initializer instead.\n",
      "\n",
      "WARNING:tensorflow:From /usr/local/lib/python3.6/dist-packages/keras/backend/tensorflow_backend.py:2041: The name tf.nn.fused_batch_norm is deprecated. Please use tf.compat.v1.nn.fused_batch_norm instead.\n",
      "\n",
      "WARNING:tensorflow:From /usr/local/lib/python3.6/dist-packages/keras/backend/tensorflow_backend.py:148: The name tf.placeholder_with_default is deprecated. Please use tf.compat.v1.placeholder_with_default instead.\n",
      "\n",
      "WARNING:tensorflow:From /usr/local/lib/python3.6/dist-packages/keras/backend/tensorflow_backend.py:4267: The name tf.nn.max_pool is deprecated. Please use tf.nn.max_pool2d instead.\n",
      "\n",
      "WARNING:tensorflow:From /usr/local/lib/python3.6/dist-packages/keras/backend/tensorflow_backend.py:3733: calling dropout (from tensorflow.python.ops.nn_ops) with keep_prob is deprecated and will be removed in a future version.\n",
      "Instructions for updating:\n",
      "Please use `rate` instead of `keep_prob`. Rate should be set to `rate = 1 - keep_prob`.\n",
      "Model: \"sequential_1\"\n",
      "_________________________________________________________________\n",
      "Layer (type)                 Output Shape              Param #   \n",
      "=================================================================\n",
      "conv2d_1 (Conv2D)            (None, 32, 32, 32)        896       \n",
      "_________________________________________________________________\n",
      "activation_1 (Activation)    (None, 32, 32, 32)        0         \n",
      "_________________________________________________________________\n",
      "batch_normalization_1 (Batch (None, 32, 32, 32)        128       \n",
      "_________________________________________________________________\n",
      "conv2d_2 (Conv2D)            (None, 32, 32, 32)        9248      \n",
      "_________________________________________________________________\n",
      "activation_2 (Activation)    (None, 32, 32, 32)        0         \n",
      "_________________________________________________________________\n",
      "batch_normalization_2 (Batch (None, 32, 32, 32)        128       \n",
      "_________________________________________________________________\n",
      "max_pooling2d_1 (MaxPooling2 (None, 16, 16, 32)        0         \n",
      "_________________________________________________________________\n",
      "dropout_1 (Dropout)          (None, 16, 16, 32)        0         \n",
      "_________________________________________________________________\n",
      "conv2d_3 (Conv2D)            (None, 16, 16, 64)        18496     \n",
      "_________________________________________________________________\n",
      "activation_3 (Activation)    (None, 16, 16, 64)        0         \n",
      "_________________________________________________________________\n",
      "batch_normalization_3 (Batch (None, 16, 16, 64)        256       \n",
      "_________________________________________________________________\n",
      "conv2d_4 (Conv2D)            (None, 16, 16, 64)        36928     \n",
      "_________________________________________________________________\n",
      "activation_4 (Activation)    (None, 16, 16, 64)        0         \n",
      "_________________________________________________________________\n",
      "batch_normalization_4 (Batch (None, 16, 16, 64)        256       \n",
      "_________________________________________________________________\n",
      "max_pooling2d_2 (MaxPooling2 (None, 8, 8, 64)          0         \n",
      "_________________________________________________________________\n",
      "dropout_2 (Dropout)          (None, 8, 8, 64)          0         \n",
      "_________________________________________________________________\n",
      "conv2d_5 (Conv2D)            (None, 8, 8, 128)         73856     \n",
      "_________________________________________________________________\n",
      "activation_5 (Activation)    (None, 8, 8, 128)         0         \n",
      "_________________________________________________________________\n",
      "batch_normalization_5 (Batch (None, 8, 8, 128)         512       \n",
      "_________________________________________________________________\n",
      "conv2d_6 (Conv2D)            (None, 8, 8, 128)         147584    \n",
      "_________________________________________________________________\n",
      "activation_6 (Activation)    (None, 8, 8, 128)         0         \n",
      "_________________________________________________________________\n",
      "batch_normalization_6 (Batch (None, 8, 8, 128)         512       \n",
      "_________________________________________________________________\n",
      "max_pooling2d_3 (MaxPooling2 (None, 4, 4, 128)         0         \n",
      "_________________________________________________________________\n",
      "dropout_3 (Dropout)          (None, 4, 4, 128)         0         \n",
      "_________________________________________________________________\n",
      "flatten_1 (Flatten)          (None, 2048)              0         \n",
      "_________________________________________________________________\n",
      "dense_1 (Dense)              (None, 10)                20490     \n",
      "=================================================================\n",
      "Total params: 309,290\n",
      "Trainable params: 308,394\n",
      "Non-trainable params: 896\n",
      "_________________________________________________________________\n"
     ]
    }
   ],
   "source": [
    "weight_decay = 1e-4\n",
    "model = Sequential()\n",
    "model.add(Conv2D(32, (3,3), padding='same', kernel_regularizer=regularizers.l2(weight_decay), input_shape=x_train.shape[1:]))\n",
    "model.add(Activation('elu'))\n",
    "model.add(BatchNormalization())\n",
    "model.add(Conv2D(32, (3,3), padding='same', kernel_regularizer=regularizers.l2(weight_decay)))\n",
    "model.add(Activation('elu'))\n",
    "model.add(BatchNormalization())\n",
    "model.add(MaxPooling2D(pool_size=(2,2)))\n",
    "model.add(Dropout(0.2))\n",
    "\n",
    "model.add(Conv2D(64, (3,3), padding='same', kernel_regularizer=regularizers.l2(weight_decay)))\n",
    "model.add(Activation('elu'))\n",
    "model.add(BatchNormalization())\n",
    "model.add(Conv2D(64, (3,3), padding='same', kernel_regularizer=regularizers.l2(weight_decay)))\n",
    "model.add(Activation('elu'))\n",
    "model.add(BatchNormalization())\n",
    "model.add(MaxPooling2D(pool_size=(2,2)))\n",
    "model.add(Dropout(0.3))\n",
    "\n",
    "model.add(Conv2D(128, (3,3), padding='same', kernel_regularizer=regularizers.l2(weight_decay)))\n",
    "model.add(Activation('elu'))\n",
    "model.add(BatchNormalization())\n",
    "model.add(Conv2D(128, (3,3), padding='same', kernel_regularizer=regularizers.l2(weight_decay)))\n",
    "model.add(Activation('elu'))\n",
    "model.add(BatchNormalization())\n",
    "model.add(MaxPooling2D(pool_size=(2,2)))\n",
    "model.add(Dropout(0.4))\n",
    "\n",
    "model.add(Flatten())\n",
    "model.add(Dense(num_classes, activation='softmax'))\n",
    "\n",
    "model.summary()\n"
   ]
  },
  {
   "cell_type": "code",
   "execution_count": 0,
   "metadata": {
    "colab": {},
    "colab_type": "code",
    "id": "aD-USU-G82zK"
   },
   "outputs": [],
   "source": [
    "#data augmentation\n",
    "datagen = ImageDataGenerator(\n",
    "    rotation_range=15,\n",
    "    width_shift_range=0.1,\n",
    "    height_shift_range=0.1,\n",
    "    horizontal_flip=True,\n",
    "    )\n",
    "datagen.fit(x_train)\n"
   ]
  },
  {
   "cell_type": "code",
   "execution_count": 8,
   "metadata": {
    "colab": {
     "base_uri": "https://localhost:8080/",
     "height": 1000
    },
    "colab_type": "code",
    "id": "CKlddnX886qY",
    "outputId": "8800b166-229a-461b-b8ab-c81ab1debd1d"
   },
   "outputs": [
    {
     "name": "stdout",
     "output_type": "stream",
     "text": [
      "WARNING:tensorflow:From /usr/local/lib/python3.6/dist-packages/keras/optimizers.py:793: The name tf.train.Optimizer is deprecated. Please use tf.compat.v1.train.Optimizer instead.\n",
      "\n",
      "WARNING:tensorflow:From /usr/local/lib/python3.6/dist-packages/keras/backend/tensorflow_backend.py:3576: The name tf.log is deprecated. Please use tf.math.log instead.\n",
      "\n",
      "WARNING:tensorflow:From /usr/local/lib/python3.6/dist-packages/tensorflow_core/python/ops/math_grad.py:1424: where (from tensorflow.python.ops.array_ops) is deprecated and will be removed in a future version.\n",
      "Instructions for updating:\n",
      "Use tf.where in 2.0, which has the same broadcast rule as np.where\n",
      "WARNING:tensorflow:From /usr/local/lib/python3.6/dist-packages/keras/backend/tensorflow_backend.py:1033: The name tf.assign_add is deprecated. Please use tf.compat.v1.assign_add instead.\n",
      "\n",
      "WARNING:tensorflow:From /usr/local/lib/python3.6/dist-packages/keras/backend/tensorflow_backend.py:1020: The name tf.assign is deprecated. Please use tf.compat.v1.assign instead.\n",
      "\n",
      "Epoch 1/125\n",
      "781/781 [==============================] - 38s 48ms/step - loss: 1.8842 - acc: 0.4262 - val_loss: 1.5388 - val_acc: 0.5543\n",
      "Epoch 2/125\n",
      "781/781 [==============================] - 29s 38ms/step - loss: 1.2469 - acc: 0.5934 - val_loss: 1.0935 - val_acc: 0.6676\n",
      "Epoch 3/125\n",
      "781/781 [==============================] - 30s 39ms/step - loss: 1.0703 - acc: 0.6549 - val_loss: 0.9356 - val_acc: 0.7096\n",
      "Epoch 4/125\n",
      "781/781 [==============================] - 30s 39ms/step - loss: 0.9638 - acc: 0.6914 - val_loss: 0.8018 - val_acc: 0.7539\n",
      "Epoch 5/125\n",
      "781/781 [==============================] - 32s 41ms/step - loss: 0.8979 - acc: 0.7185 - val_loss: 0.8422 - val_acc: 0.7545\n",
      "Epoch 6/125\n",
      "781/781 [==============================] - 31s 40ms/step - loss: 0.8528 - acc: 0.7375 - val_loss: 0.8110 - val_acc: 0.7580\n",
      "Epoch 7/125\n",
      "781/781 [==============================] - 30s 39ms/step - loss: 0.8177 - acc: 0.7522 - val_loss: 0.7940 - val_acc: 0.7714\n",
      "Epoch 8/125\n",
      "781/781 [==============================] - 31s 40ms/step - loss: 0.7892 - acc: 0.7633 - val_loss: 0.7777 - val_acc: 0.7781\n",
      "Epoch 9/125\n",
      "781/781 [==============================] - 32s 40ms/step - loss: 0.7640 - acc: 0.7741 - val_loss: 0.7204 - val_acc: 0.7936\n",
      "Epoch 10/125\n",
      "781/781 [==============================] - 31s 40ms/step - loss: 0.7510 - acc: 0.7808 - val_loss: 0.7578 - val_acc: 0.7917\n",
      "Epoch 11/125\n",
      "781/781 [==============================] - 30s 39ms/step - loss: 0.7345 - acc: 0.7855 - val_loss: 0.6329 - val_acc: 0.8282\n",
      "Epoch 12/125\n",
      "781/781 [==============================] - 31s 39ms/step - loss: 0.7190 - acc: 0.7925 - val_loss: 0.7169 - val_acc: 0.8074\n",
      "Epoch 13/125\n",
      "781/781 [==============================] - 31s 40ms/step - loss: 0.7131 - acc: 0.7959 - val_loss: 0.7814 - val_acc: 0.7815\n",
      "Epoch 14/125\n",
      "781/781 [==============================] - 30s 39ms/step - loss: 0.6999 - acc: 0.8001 - val_loss: 0.7453 - val_acc: 0.7961\n",
      "Epoch 15/125\n",
      "781/781 [==============================] - 31s 40ms/step - loss: 0.6912 - acc: 0.8049 - val_loss: 0.6461 - val_acc: 0.8299\n",
      "Epoch 16/125\n",
      "781/781 [==============================] - 32s 41ms/step - loss: 0.6848 - acc: 0.8068 - val_loss: 0.6515 - val_acc: 0.8249\n",
      "Epoch 17/125\n",
      "781/781 [==============================] - 31s 39ms/step - loss: 0.6801 - acc: 0.8120 - val_loss: 0.6322 - val_acc: 0.8298\n",
      "Epoch 18/125\n",
      "781/781 [==============================] - 31s 40ms/step - loss: 0.6715 - acc: 0.8156 - val_loss: 0.6794 - val_acc: 0.8229\n",
      "Epoch 19/125\n",
      "781/781 [==============================] - 32s 40ms/step - loss: 0.6640 - acc: 0.8163 - val_loss: 0.6355 - val_acc: 0.8352\n",
      "Epoch 20/125\n",
      "781/781 [==============================] - 31s 40ms/step - loss: 0.6608 - acc: 0.8186 - val_loss: 0.6482 - val_acc: 0.8308\n",
      "Epoch 21/125\n",
      "781/781 [==============================] - 32s 40ms/step - loss: 0.6645 - acc: 0.8176 - val_loss: 0.6676 - val_acc: 0.8234\n",
      "Epoch 22/125\n",
      "781/781 [==============================] - 31s 40ms/step - loss: 0.6546 - acc: 0.8224 - val_loss: 0.6422 - val_acc: 0.8328\n",
      "Epoch 23/125\n",
      "781/781 [==============================] - 31s 40ms/step - loss: 0.6507 - acc: 0.8240 - val_loss: 0.5885 - val_acc: 0.8511\n",
      "Epoch 24/125\n",
      "781/781 [==============================] - 31s 40ms/step - loss: 0.6457 - acc: 0.8275 - val_loss: 0.6159 - val_acc: 0.8445\n",
      "Epoch 25/125\n",
      "781/781 [==============================] - 31s 40ms/step - loss: 0.6463 - acc: 0.8277 - val_loss: 0.6760 - val_acc: 0.8272\n",
      "Epoch 26/125\n",
      "781/781 [==============================] - 31s 40ms/step - loss: 0.6378 - acc: 0.8296 - val_loss: 0.5996 - val_acc: 0.8476\n",
      "Epoch 27/125\n",
      "781/781 [==============================] - 31s 40ms/step - loss: 0.6462 - acc: 0.8268 - val_loss: 0.6348 - val_acc: 0.8405\n",
      "Epoch 28/125\n",
      "781/781 [==============================] - 30s 38ms/step - loss: 0.6344 - acc: 0.8307 - val_loss: 0.6389 - val_acc: 0.8433\n",
      "Epoch 29/125\n",
      "781/781 [==============================] - 30s 38ms/step - loss: 0.6343 - acc: 0.8331 - val_loss: 0.7094 - val_acc: 0.8193\n",
      "Epoch 30/125\n",
      "781/781 [==============================] - 30s 38ms/step - loss: 0.6382 - acc: 0.8309 - val_loss: 0.5752 - val_acc: 0.8542\n",
      "Epoch 31/125\n",
      "781/781 [==============================] - 29s 38ms/step - loss: 0.6325 - acc: 0.8329 - val_loss: 0.5903 - val_acc: 0.8488\n",
      "Epoch 32/125\n",
      "781/781 [==============================] - 29s 38ms/step - loss: 0.6271 - acc: 0.8360 - val_loss: 0.6197 - val_acc: 0.8411\n",
      "Epoch 33/125\n",
      "781/781 [==============================] - 29s 38ms/step - loss: 0.6254 - acc: 0.8355 - val_loss: 0.5836 - val_acc: 0.8521\n",
      "Epoch 34/125\n",
      "781/781 [==============================] - 30s 38ms/step - loss: 0.6248 - acc: 0.8361 - val_loss: 0.5968 - val_acc: 0.8554\n",
      "Epoch 35/125\n",
      "781/781 [==============================] - 31s 40ms/step - loss: 0.6177 - acc: 0.8374 - val_loss: 0.5709 - val_acc: 0.8603\n",
      "Epoch 36/125\n",
      "781/781 [==============================] - 31s 40ms/step - loss: 0.6244 - acc: 0.8367 - val_loss: 0.6449 - val_acc: 0.8414\n",
      "Epoch 37/125\n",
      "781/781 [==============================] - 31s 39ms/step - loss: 0.6190 - acc: 0.8387 - val_loss: 0.6301 - val_acc: 0.8426\n",
      "Epoch 38/125\n",
      "781/781 [==============================] - 30s 39ms/step - loss: 0.6154 - acc: 0.8388 - val_loss: 0.6030 - val_acc: 0.8525\n",
      "Epoch 39/125\n",
      "781/781 [==============================] - 31s 40ms/step - loss: 0.6119 - acc: 0.8397 - val_loss: 0.5568 - val_acc: 0.8667\n",
      "Epoch 40/125\n",
      "781/781 [==============================] - 31s 39ms/step - loss: 0.6144 - acc: 0.8415 - val_loss: 0.6422 - val_acc: 0.8352\n",
      "Epoch 41/125\n",
      "781/781 [==============================] - 32s 41ms/step - loss: 0.6035 - acc: 0.8460 - val_loss: 0.6020 - val_acc: 0.8521\n",
      "Epoch 42/125\n",
      "781/781 [==============================] - 30s 39ms/step - loss: 0.6121 - acc: 0.8402 - val_loss: 0.6132 - val_acc: 0.8488\n",
      "Epoch 43/125\n",
      "781/781 [==============================] - 31s 39ms/step - loss: 0.6070 - acc: 0.8427 - val_loss: 0.6005 - val_acc: 0.8555\n",
      "Epoch 44/125\n",
      "781/781 [==============================] - 30s 39ms/step - loss: 0.6105 - acc: 0.8416 - val_loss: 0.5981 - val_acc: 0.8515\n",
      "Epoch 45/125\n",
      "781/781 [==============================] - 31s 39ms/step - loss: 0.6084 - acc: 0.8435 - val_loss: 0.5907 - val_acc: 0.8552\n",
      "Epoch 46/125\n",
      "781/781 [==============================] - 31s 39ms/step - loss: 0.6065 - acc: 0.8414 - val_loss: 0.6420 - val_acc: 0.8425\n",
      "Epoch 47/125\n",
      "781/781 [==============================] - 32s 41ms/step - loss: 0.6075 - acc: 0.8433 - val_loss: 0.6417 - val_acc: 0.8393\n",
      "Epoch 48/125\n",
      "781/781 [==============================] - 32s 41ms/step - loss: 0.6024 - acc: 0.8449 - val_loss: 0.5885 - val_acc: 0.8538\n",
      "Epoch 49/125\n",
      "781/781 [==============================] - 32s 41ms/step - loss: 0.6030 - acc: 0.8450 - val_loss: 0.6269 - val_acc: 0.8485\n",
      "Epoch 50/125\n",
      "781/781 [==============================] - 31s 40ms/step - loss: 0.5991 - acc: 0.8463 - val_loss: 0.6687 - val_acc: 0.8332\n",
      "Epoch 51/125\n",
      "781/781 [==============================] - 31s 40ms/step - loss: 0.5993 - acc: 0.8440 - val_loss: 0.6522 - val_acc: 0.8383\n",
      "Epoch 52/125\n",
      "781/781 [==============================] - 31s 40ms/step - loss: 0.6006 - acc: 0.8456 - val_loss: 0.7132 - val_acc: 0.8249\n",
      "Epoch 53/125\n",
      "781/781 [==============================] - 31s 39ms/step - loss: 0.6016 - acc: 0.8447 - val_loss: 0.6301 - val_acc: 0.8413\n",
      "Epoch 54/125\n",
      "781/781 [==============================] - 31s 40ms/step - loss: 0.5923 - acc: 0.8488 - val_loss: 0.6815 - val_acc: 0.8374\n",
      "Epoch 55/125\n",
      "781/781 [==============================] - 31s 39ms/step - loss: 0.5945 - acc: 0.8488 - val_loss: 0.5771 - val_acc: 0.8581\n",
      "Epoch 56/125\n",
      "781/781 [==============================] - 30s 39ms/step - loss: 0.6000 - acc: 0.8460 - val_loss: 0.6002 - val_acc: 0.8537\n",
      "Epoch 57/125\n",
      "781/781 [==============================] - 29s 37ms/step - loss: 0.5877 - acc: 0.8516 - val_loss: 0.6027 - val_acc: 0.8546\n",
      "Epoch 58/125\n",
      "781/781 [==============================] - 29s 37ms/step - loss: 0.5932 - acc: 0.8490 - val_loss: 0.6161 - val_acc: 0.8522\n",
      "Epoch 59/125\n",
      "781/781 [==============================] - 29s 38ms/step - loss: 0.5892 - acc: 0.8501 - val_loss: 0.5918 - val_acc: 0.8555\n",
      "Epoch 60/125\n",
      "781/781 [==============================] - 30s 38ms/step - loss: 0.5878 - acc: 0.8504 - val_loss: 0.5987 - val_acc: 0.8539\n",
      "Epoch 61/125\n",
      "781/781 [==============================] - 31s 39ms/step - loss: 0.5962 - acc: 0.8494 - val_loss: 0.5666 - val_acc: 0.8658\n",
      "Epoch 62/125\n",
      "781/781 [==============================] - 31s 39ms/step - loss: 0.5904 - acc: 0.8498 - val_loss: 0.6211 - val_acc: 0.8491\n",
      "Epoch 63/125\n",
      "781/781 [==============================] - 30s 39ms/step - loss: 0.5893 - acc: 0.8505 - val_loss: 0.5631 - val_acc: 0.8646\n",
      "Epoch 64/125\n",
      "781/781 [==============================] - 30s 38ms/step - loss: 0.5912 - acc: 0.8495 - val_loss: 0.5938 - val_acc: 0.8551\n",
      "Epoch 65/125\n",
      "781/781 [==============================] - 31s 39ms/step - loss: 0.5824 - acc: 0.8524 - val_loss: 0.5523 - val_acc: 0.8687\n",
      "Epoch 66/125\n",
      "781/781 [==============================] - 31s 40ms/step - loss: 0.5879 - acc: 0.8509 - val_loss: 0.5820 - val_acc: 0.8577\n",
      "Epoch 67/125\n",
      "781/781 [==============================] - 32s 40ms/step - loss: 0.5838 - acc: 0.8513 - val_loss: 0.5533 - val_acc: 0.8655\n",
      "Epoch 68/125\n",
      "781/781 [==============================] - 30s 39ms/step - loss: 0.5879 - acc: 0.8515 - val_loss: 0.5736 - val_acc: 0.8662\n",
      "Epoch 69/125\n",
      "781/781 [==============================] - 31s 39ms/step - loss: 0.5788 - acc: 0.8545 - val_loss: 0.6012 - val_acc: 0.8570\n",
      "Epoch 70/125\n",
      "781/781 [==============================] - 31s 40ms/step - loss: 0.5813 - acc: 0.8538 - val_loss: 0.6031 - val_acc: 0.8509\n",
      "Epoch 71/125\n",
      "781/781 [==============================] - 31s 40ms/step - loss: 0.5878 - acc: 0.8520 - val_loss: 0.6232 - val_acc: 0.8503\n",
      "Epoch 72/125\n",
      "781/781 [==============================] - 31s 40ms/step - loss: 0.5732 - acc: 0.8545 - val_loss: 0.5923 - val_acc: 0.8552\n",
      "Epoch 73/125\n",
      "781/781 [==============================] - 31s 40ms/step - loss: 0.5802 - acc: 0.8528 - val_loss: 0.5808 - val_acc: 0.8629\n",
      "Epoch 74/125\n",
      "781/781 [==============================] - 31s 40ms/step - loss: 0.5789 - acc: 0.8537 - val_loss: 0.5914 - val_acc: 0.8603\n",
      "Epoch 75/125\n",
      "781/781 [==============================] - 31s 40ms/step - loss: 0.5768 - acc: 0.8540 - val_loss: 0.5864 - val_acc: 0.8600\n",
      "Epoch 76/125\n",
      "781/781 [==============================] - 31s 40ms/step - loss: 0.5748 - acc: 0.8559 - val_loss: 0.6113 - val_acc: 0.8551\n",
      "Epoch 77/125\n",
      "781/781 [==============================] - 30s 39ms/step - loss: 0.5329 - acc: 0.8692 - val_loss: 0.5157 - val_acc: 0.8806\n",
      "Epoch 78/125\n",
      "781/781 [==============================] - 29s 37ms/step - loss: 0.5219 - acc: 0.8730 - val_loss: 0.5453 - val_acc: 0.8735\n",
      "Epoch 79/125\n",
      "781/781 [==============================] - 29s 37ms/step - loss: 0.5122 - acc: 0.8725 - val_loss: 0.5346 - val_acc: 0.8756\n",
      "Epoch 80/125\n",
      "781/781 [==============================] - 29s 38ms/step - loss: 0.5031 - acc: 0.8761 - val_loss: 0.5178 - val_acc: 0.8782\n",
      "Epoch 81/125\n",
      "781/781 [==============================] - 30s 38ms/step - loss: 0.4910 - acc: 0.8780 - val_loss: 0.5014 - val_acc: 0.8862\n",
      "Epoch 82/125\n",
      "781/781 [==============================] - 32s 40ms/step - loss: 0.4886 - acc: 0.8786 - val_loss: 0.5044 - val_acc: 0.8770\n",
      "Epoch 83/125\n",
      "781/781 [==============================] - 31s 40ms/step - loss: 0.4875 - acc: 0.8772 - val_loss: 0.5277 - val_acc: 0.8722\n",
      "Epoch 84/125\n",
      "781/781 [==============================] - 31s 39ms/step - loss: 0.4881 - acc: 0.8774 - val_loss: 0.5069 - val_acc: 0.8768\n",
      "Epoch 85/125\n",
      "781/781 [==============================] - 30s 39ms/step - loss: 0.4812 - acc: 0.8799 - val_loss: 0.4884 - val_acc: 0.8829\n",
      "Epoch 86/125\n",
      "781/781 [==============================] - 30s 39ms/step - loss: 0.4818 - acc: 0.8777 - val_loss: 0.4858 - val_acc: 0.8858\n",
      "Epoch 87/125\n",
      "781/781 [==============================] - 31s 40ms/step - loss: 0.4741 - acc: 0.8805 - val_loss: 0.5357 - val_acc: 0.8735\n",
      "Epoch 88/125\n",
      "781/781 [==============================] - 31s 40ms/step - loss: 0.4739 - acc: 0.8809 - val_loss: 0.5504 - val_acc: 0.8660\n",
      "Epoch 89/125\n",
      "781/781 [==============================] - 31s 40ms/step - loss: 0.4780 - acc: 0.8783 - val_loss: 0.5217 - val_acc: 0.8733\n",
      "Epoch 90/125\n",
      "781/781 [==============================] - 32s 40ms/step - loss: 0.4705 - acc: 0.8809 - val_loss: 0.4742 - val_acc: 0.8848\n",
      "Epoch 91/125\n",
      "781/781 [==============================] - 31s 39ms/step - loss: 0.4698 - acc: 0.8818 - val_loss: 0.5053 - val_acc: 0.8747\n",
      "Epoch 92/125\n",
      "781/781 [==============================] - 30s 39ms/step - loss: 0.4700 - acc: 0.8797 - val_loss: 0.5399 - val_acc: 0.8669\n",
      "Epoch 93/125\n",
      "781/781 [==============================] - 31s 39ms/step - loss: 0.4664 - acc: 0.8802 - val_loss: 0.4703 - val_acc: 0.8871\n",
      "Epoch 94/125\n",
      "781/781 [==============================] - 31s 40ms/step - loss: 0.4645 - acc: 0.8829 - val_loss: 0.4756 - val_acc: 0.8860\n",
      "Epoch 95/125\n",
      "781/781 [==============================] - 32s 41ms/step - loss: 0.4622 - acc: 0.8815 - val_loss: 0.5012 - val_acc: 0.8821\n",
      "Epoch 96/125\n",
      "781/781 [==============================] - 31s 39ms/step - loss: 0.4567 - acc: 0.8834 - val_loss: 0.4994 - val_acc: 0.8784\n",
      "Epoch 97/125\n",
      "781/781 [==============================] - 31s 39ms/step - loss: 0.4616 - acc: 0.8828 - val_loss: 0.4856 - val_acc: 0.8816\n",
      "Epoch 98/125\n",
      "781/781 [==============================] - 31s 40ms/step - loss: 0.4573 - acc: 0.8832 - val_loss: 0.4915 - val_acc: 0.8825\n",
      "Epoch 99/125\n",
      "781/781 [==============================] - 31s 39ms/step - loss: 0.4554 - acc: 0.8841 - val_loss: 0.4636 - val_acc: 0.8869\n",
      "Epoch 100/125\n",
      "781/781 [==============================] - 31s 40ms/step - loss: 0.4605 - acc: 0.8829 - val_loss: 0.4621 - val_acc: 0.8884\n",
      "Epoch 101/125\n",
      "781/781 [==============================] - 31s 40ms/step - loss: 0.4566 - acc: 0.8824 - val_loss: 0.4752 - val_acc: 0.8871\n",
      "Epoch 102/125\n",
      "781/781 [==============================] - 31s 39ms/step - loss: 0.4601 - acc: 0.8807 - val_loss: 0.4798 - val_acc: 0.8811\n",
      "Epoch 103/125\n",
      "781/781 [==============================] - 31s 40ms/step - loss: 0.4541 - acc: 0.8843 - val_loss: 0.4780 - val_acc: 0.8839\n",
      "Epoch 104/125\n",
      "781/781 [==============================] - 31s 40ms/step - loss: 0.4535 - acc: 0.8818 - val_loss: 0.4753 - val_acc: 0.8818\n",
      "Epoch 105/125\n",
      "781/781 [==============================] - 31s 40ms/step - loss: 0.4553 - acc: 0.8812 - val_loss: 0.4956 - val_acc: 0.8792\n",
      "Epoch 106/125\n",
      "781/781 [==============================] - 31s 40ms/step - loss: 0.4521 - acc: 0.8823 - val_loss: 0.4828 - val_acc: 0.8824\n",
      "Epoch 107/125\n",
      "781/781 [==============================] - 31s 40ms/step - loss: 0.4475 - acc: 0.8853 - val_loss: 0.5355 - val_acc: 0.8695\n",
      "Epoch 108/125\n",
      "781/781 [==============================] - 31s 40ms/step - loss: 0.4525 - acc: 0.8809 - val_loss: 0.4780 - val_acc: 0.8857\n",
      "Epoch 109/125\n",
      "781/781 [==============================] - 30s 38ms/step - loss: 0.4569 - acc: 0.8820 - val_loss: 0.4539 - val_acc: 0.8906\n",
      "Epoch 110/125\n",
      "781/781 [==============================] - 29s 38ms/step - loss: 0.4489 - acc: 0.8834 - val_loss: 0.4488 - val_acc: 0.8909\n",
      "Epoch 111/125\n",
      "781/781 [==============================] - 30s 38ms/step - loss: 0.4533 - acc: 0.8832 - val_loss: 0.4947 - val_acc: 0.8799\n",
      "Epoch 112/125\n",
      "781/781 [==============================] - 29s 37ms/step - loss: 0.4442 - acc: 0.8870 - val_loss: 0.4956 - val_acc: 0.8779\n",
      "Epoch 113/125\n",
      "781/781 [==============================] - 29s 38ms/step - loss: 0.4498 - acc: 0.8833 - val_loss: 0.4696 - val_acc: 0.8860\n",
      "Epoch 114/125\n",
      "781/781 [==============================] - 29s 37ms/step - loss: 0.4504 - acc: 0.8835 - val_loss: 0.4738 - val_acc: 0.8821\n",
      "Epoch 115/125\n",
      "781/781 [==============================] - 31s 39ms/step - loss: 0.4483 - acc: 0.8849 - val_loss: 0.4662 - val_acc: 0.8860\n",
      "Epoch 116/125\n",
      "781/781 [==============================] - 29s 37ms/step - loss: 0.4469 - acc: 0.8845 - val_loss: 0.4713 - val_acc: 0.8847\n",
      "Epoch 117/125\n",
      "781/781 [==============================] - 29s 37ms/step - loss: 0.4482 - acc: 0.8850 - val_loss: 0.5074 - val_acc: 0.8747\n",
      "Epoch 118/125\n",
      "781/781 [==============================] - 29s 37ms/step - loss: 0.4434 - acc: 0.8864 - val_loss: 0.4710 - val_acc: 0.8828\n",
      "Epoch 119/125\n",
      "781/781 [==============================] - 29s 37ms/step - loss: 0.4415 - acc: 0.8860 - val_loss: 0.4980 - val_acc: 0.8755\n",
      "Epoch 120/125\n",
      "781/781 [==============================] - 29s 37ms/step - loss: 0.4465 - acc: 0.8869 - val_loss: 0.4759 - val_acc: 0.8854\n",
      "Epoch 121/125\n",
      "781/781 [==============================] - 29s 37ms/step - loss: 0.4438 - acc: 0.8855 - val_loss: 0.4878 - val_acc: 0.8829\n",
      "Epoch 122/125\n",
      "781/781 [==============================] - 28s 36ms/step - loss: 0.4410 - acc: 0.8865 - val_loss: 0.4594 - val_acc: 0.8896\n",
      "Epoch 123/125\n",
      "781/781 [==============================] - 28s 36ms/step - loss: 0.4459 - acc: 0.8842 - val_loss: 0.4617 - val_acc: 0.8866\n",
      "Epoch 124/125\n",
      "781/781 [==============================] - 28s 36ms/step - loss: 0.4403 - acc: 0.8864 - val_loss: 0.4856 - val_acc: 0.8814\n",
      "Epoch 125/125\n",
      "781/781 [==============================] - 28s 36ms/step - loss: 0.4411 - acc: 0.8868 - val_loss: 0.4600 - val_acc: 0.8869\n"
     ]
    }
   ],
   "source": [
    "#training\n",
    "batch_size = 64\n",
    "\n",
    "opt_rms = keras.optimizers.rmsprop(lr=0.001,decay=1e-6)\n",
    "model.compile(loss='categorical_crossentropy', optimizer=opt_rms, metrics=['accuracy'])\n",
    "model_log = model.fit_generator(datagen.flow(x_train, y_train, batch_size=batch_size),\\\n",
    "                    steps_per_epoch=x_train.shape[0] // batch_size,epochs=125,\\\n",
    "                    verbose=1,validation_data=(x_test,y_test),callbacks=[LearningRateScheduler(lr_schedule)])"
   ]
  },
  {
   "cell_type": "code",
   "execution_count": 0,
   "metadata": {
    "colab": {},
    "colab_type": "code",
    "id": "vGTw6wkH8-6r"
   },
   "outputs": [],
   "source": [
    "#save to disk\n",
    "model_json = model.to_json()\n",
    "with open('model.json', 'w') as json_file:\n",
    "    json_file.write(model_json)\n",
    "\n",
    "model.save_weights('model.h5')"
   ]
  },
  {
   "cell_type": "code",
   "execution_count": 0,
   "metadata": {
    "colab": {},
    "colab_type": "code",
    "id": "yDP1sKPG9HAL"
   },
   "outputs": [],
   "source": [
    "#model’s performance on test data:\n",
    "y_pred = model.predict(x_test)\n",
    "#Converting predictions to label\n",
    "pred = list()\n",
    "for i in range(len(y_pred)):\n",
    "    pred.append(np.argmax(y_pred[i]))\n",
    "#Converting one hot encoded test label to label\n",
    "test = list()\n",
    "for i in range(len(y_test)):\n",
    "    test.append(np.argmax(y_test[i]))"
   ]
  },
  {
   "cell_type": "code",
   "execution_count": 11,
   "metadata": {
    "colab": {
     "base_uri": "https://localhost:8080/",
     "height": 35
    },
    "colab_type": "code",
    "id": "Au6KzyYCL3CH",
    "outputId": "7a7b9e97-575b-4338-bb4e-0d0deacc43aa"
   },
   "outputs": [
    {
     "name": "stdout",
     "output_type": "stream",
     "text": [
      "Accuracy is: 88.69\n"
     ]
    }
   ],
   "source": [
    "#accuracy score\n",
    "from sklearn.metrics import accuracy_score\n",
    "a = accuracy_score(pred,test)\n",
    "print('Accuracy is:', a*100)"
   ]
  },
  {
   "cell_type": "code",
   "execution_count": 12,
   "metadata": {
    "colab": {
     "base_uri": "https://localhost:8080/",
     "height": 295
    },
    "colab_type": "code",
    "id": "TnhspOZQL-26",
    "outputId": "af5fbf1a-4b1c-498f-e78b-a1d4ee28345c"
   },
   "outputs": [
    {
     "data": {
      "image/png": "[encoded data removed]",
      "text/plain": [
       "<Figure size 432x288 with 1 Axes>"
      ]
     },
     "metadata": {
      "tags": []
     },
     "output_type": "display_data"
    }
   ],
   "source": [
    "import matplotlib.pyplot as plt\n",
    "plt.plot(model_log.history['acc'])\n",
    "plt.plot(model_log.history['val_acc'])\n",
    "plt.title('Model accuracy')\n",
    "plt.ylabel('Accuracy')\n",
    "plt.xlabel('Epoch')\n",
    "plt.legend(['Train', 'Test'], loc='upper left')\n",
    "plt.show()"
   ]
  },
  {
   "cell_type": "code",
   "execution_count": 13,
   "metadata": {
    "colab": {
     "base_uri": "https://localhost:8080/",
     "height": 295
    },
    "colab_type": "code",
    "id": "cviB0BMuMEAb",
    "outputId": "baec7c93-f7e3-45e6-bf7f-595e36333922"
   },
   "outputs": [
    {
     "data": {
      "image/png": "[encoded data removed]",
      "text/plain": [
       "<Figure size 432x288 with 1 Axes>"
      ]
     },
     "metadata": {
      "tags": []
     },
     "output_type": "display_data"
    }
   ],
   "source": [
    "plt.plot(model_log.history['loss']) \n",
    "plt.plot(model_log.history['val_loss']) \n",
    "plt.title('Model loss') \n",
    "plt.ylabel('Loss') \n",
    "plt.xlabel('Epoch') \n",
    "plt.legend(['Train', 'Test'], loc='upper left') \n",
    "plt.show()"
   ]
  },
  {
   "cell_type": "code",
   "execution_count": 0,
   "metadata": {
    "colab": {},
    "colab_type": "code",
    "id": "DjjOKy9GaTXl"
   },
   "outputs": [],
   "source": []
  }
 ],
 "metadata": {
  "accelerator": "GPU",
  "colab": {
   "name": "cifar-10.ipynb",
   "provenance": []
  },
  "kernelspec": {
   "display_name": "Python 3",
   "language": "python",
   "name": "python3"
  },
  "language_info": {
   "codemirror_mode": {
    "name": "ipython",
    "version": 3
   },
   "file_extension": ".py",
   "mimetype": "text/x-python",
   "name": "python",
   "nbconvert_exporter": "python",
   "pygments_lexer": "ipython3",
   "version": "3.7.3"
  }
 },
 "nbformat": 4,
 "nbformat_minor": 1
}
