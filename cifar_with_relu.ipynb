{
 "cells": [
  {
   "cell_type": "code",
   "execution_count": 0,
   "metadata": {
    "colab": {},
    "colab_type": "code",
    "id": "jrXioQB6N769"
   },
   "outputs": [],
   "source": [
    "import keras\n",
    "from keras.models import Sequential\n",
    "from keras.utils import np_utils\n",
    "from keras.preprocessing.image import ImageDataGenerator\n",
    "from keras.layers import Dense, Activation, Flatten, Dropout, BatchNormalization\n",
    "from keras.layers import Conv2D, MaxPooling2D\n",
    "from keras.datasets import cifar10\n",
    "from keras import regularizers\n",
    "from keras.callbacks import LearningRateScheduler\n",
    "import numpy as np"
   ]
  },
  {
   "cell_type": "code",
   "execution_count": 0,
   "metadata": {
    "colab": {},
    "colab_type": "code",
    "id": "NkjfyAWiOXP7"
   },
   "outputs": [],
   "source": [
    "def lr_schedule(epoch):\n",
    "    lrate = 0.001\n",
    "    if epoch > 75:\n",
    "        lrate = 0.0005\n",
    "    elif epoch > 100:\n",
    "        lrate = 0.0003        \n",
    "    return lrate"
   ]
  },
  {
   "cell_type": "code",
   "execution_count": 0,
   "metadata": {
    "colab": {},
    "colab_type": "code",
    "id": "gQ9nYirQOrtV"
   },
   "outputs": [],
   "source": [
    "(x_train, y_train), (x_test, y_test) = cifar10.load_data()\n",
    "x_train = x_train.astype('float32')\n",
    "x_test = x_test.astype('float32')"
   ]
  },
  {
   "cell_type": "code",
   "execution_count": 0,
   "metadata": {
    "colab": {},
    "colab_type": "code",
    "id": "YU1--2TsOtoX"
   },
   "outputs": [],
   "source": [
    "#z-score\n",
    "mean = np.mean(x_train,axis=(0,1,2,3))\n",
    "std = np.std(x_train,axis=(0,1,2,3))\n",
    "x_train = (x_train-mean)/(std+1e-7)\n",
    "x_test = (x_test-mean)/(std+1e-7)"
   ]
  },
  {
   "cell_type": "code",
   "execution_count": 0,
   "metadata": {
    "colab": {},
    "colab_type": "code",
    "id": "5LNbPnqZOvSN"
   },
   "outputs": [],
   "source": [
    "num_classes = 10\n",
    "y_train = np_utils.to_categorical(y_train,num_classes)\n",
    "y_test = np_utils.to_categorical(y_test,num_classes)"
   ]
  },
  {
   "cell_type": "code",
   "execution_count": 0,
   "metadata": {
    "colab": {
     "base_uri": "https://localhost:8080/",
     "height": 1000
    },
    "colab_type": "code",
    "id": "VPb6gu08Owo9",
    "outputId": "21c35747-4c42-4582-a4e1-be97a123bc6e"
   },
   "outputs": [
    {
     "name": "stdout",
     "output_type": "stream",
     "text": [
      "Model: \"sequential_2\"\n",
      "_________________________________________________________________\n",
      "Layer (type)                 Output Shape              Param #   \n",
      "=================================================================\n",
      "conv2d_7 (Conv2D)            (None, 32, 32, 32)        896       \n",
      "_________________________________________________________________\n",
      "activation_7 (Activation)    (None, 32, 32, 32)        0         \n",
      "_________________________________________________________________\n",
      "batch_normalization_7 (Batch (None, 32, 32, 32)        128       \n",
      "_________________________________________________________________\n",
      "conv2d_8 (Conv2D)            (None, 32, 32, 32)        9248      \n",
      "_________________________________________________________________\n",
      "activation_8 (Activation)    (None, 32, 32, 32)        0         \n",
      "_________________________________________________________________\n",
      "batch_normalization_8 (Batch (None, 32, 32, 32)        128       \n",
      "_________________________________________________________________\n",
      "max_pooling2d_4 (MaxPooling2 (None, 16, 16, 32)        0         \n",
      "_________________________________________________________________\n",
      "dropout_4 (Dropout)          (None, 16, 16, 32)        0         \n",
      "_________________________________________________________________\n",
      "conv2d_9 (Conv2D)            (None, 16, 16, 64)        18496     \n",
      "_________________________________________________________________\n",
      "activation_9 (Activation)    (None, 16, 16, 64)        0         \n",
      "_________________________________________________________________\n",
      "batch_normalization_9 (Batch (None, 16, 16, 64)        256       \n",
      "_________________________________________________________________\n",
      "conv2d_10 (Conv2D)           (None, 16, 16, 64)        36928     \n",
      "_________________________________________________________________\n",
      "activation_10 (Activation)   (None, 16, 16, 64)        0         \n",
      "_________________________________________________________________\n",
      "batch_normalization_10 (Batc (None, 16, 16, 64)        256       \n",
      "_________________________________________________________________\n",
      "max_pooling2d_5 (MaxPooling2 (None, 8, 8, 64)          0         \n",
      "_________________________________________________________________\n",
      "dropout_5 (Dropout)          (None, 8, 8, 64)          0         \n",
      "_________________________________________________________________\n",
      "conv2d_11 (Conv2D)           (None, 8, 8, 128)         73856     \n",
      "_________________________________________________________________\n",
      "activation_11 (Activation)   (None, 8, 8, 128)         0         \n",
      "_________________________________________________________________\n",
      "batch_normalization_11 (Batc (None, 8, 8, 128)         512       \n",
      "_________________________________________________________________\n",
      "conv2d_12 (Conv2D)           (None, 8, 8, 128)         147584    \n",
      "_________________________________________________________________\n",
      "activation_12 (Activation)   (None, 8, 8, 128)         0         \n",
      "_________________________________________________________________\n",
      "batch_normalization_12 (Batc (None, 8, 8, 128)         512       \n",
      "_________________________________________________________________\n",
      "max_pooling2d_6 (MaxPooling2 (None, 4, 4, 128)         0         \n",
      "_________________________________________________________________\n",
      "dropout_6 (Dropout)          (None, 4, 4, 128)         0         \n",
      "_________________________________________________________________\n",
      "flatten_2 (Flatten)          (None, 2048)              0         \n",
      "_________________________________________________________________\n",
      "dense_2 (Dense)              (None, 10)                20490     \n",
      "=================================================================\n",
      "Total params: 309,290\n",
      "Trainable params: 308,394\n",
      "Non-trainable params: 896\n",
      "_________________________________________________________________\n"
     ]
    }
   ],
   "source": [
    "weight_decay = 1e-4\n",
    "model = Sequential()\n",
    "model.add(Conv2D(32, (3,3), padding='same', kernel_regularizer=regularizers.l2(weight_decay), input_shape=x_train.shape[1:]))\n",
    "model.add(Activation('relu'))\n",
    "model.add(BatchNormalization())\n",
    "model.add(Conv2D(32, (3,3), padding='same', kernel_regularizer=regularizers.l2(weight_decay)))\n",
    "model.add(Activation('relu'))\n",
    "model.add(BatchNormalization())\n",
    "model.add(MaxPooling2D(pool_size=(2,2)))\n",
    "model.add(Dropout(0.2))\n",
    "\n",
    "model.add(Conv2D(64, (3,3), padding='same', kernel_regularizer=regularizers.l2(weight_decay)))\n",
    "model.add(Activation('relu'))\n",
    "model.add(BatchNormalization())\n",
    "model.add(Conv2D(64, (3,3), padding='same', kernel_regularizer=regularizers.l2(weight_decay)))\n",
    "model.add(Activation('relu'))\n",
    "model.add(BatchNormalization())\n",
    "model.add(MaxPooling2D(pool_size=(2,2)))\n",
    "model.add(Dropout(0.3))\n",
    "\n",
    "model.add(Conv2D(128, (3,3), padding='same', kernel_regularizer=regularizers.l2(weight_decay)))\n",
    "model.add(Activation('relu'))\n",
    "model.add(BatchNormalization())\n",
    "model.add(Conv2D(128, (3,3), padding='same', kernel_regularizer=regularizers.l2(weight_decay)))\n",
    "model.add(Activation('relu'))\n",
    "model.add(BatchNormalization())\n",
    "model.add(MaxPooling2D(pool_size=(2,2)))\n",
    "model.add(Dropout(0.4))\n",
    "\n",
    "model.add(Flatten())\n",
    "model.add(Dense(num_classes, activation='softmax'))\n",
    "\n",
    "model.summary()"
   ]
  },
  {
   "cell_type": "code",
   "execution_count": 0,
   "metadata": {
    "colab": {},
    "colab_type": "code",
    "id": "N_fjQBGVRPnC"
   },
   "outputs": [],
   "source": [
    "#data augmentation\n",
    "datagen = ImageDataGenerator(\n",
    "    rotation_range=15,\n",
    "    width_shift_range=0.1,\n",
    "    height_shift_range=0.1,\n",
    "    horizontal_flip=True,\n",
    "    )\n",
    "datagen.fit(x_train)"
   ]
  },
  {
   "cell_type": "code",
   "execution_count": 0,
   "metadata": {
    "colab": {
     "base_uri": "https://localhost:8080/",
     "height": 1000
    },
    "colab_type": "code",
    "id": "31zYsb5_Oy22",
    "outputId": "6955902d-7618-415d-fcb3-ab17148e2863"
   },
   "outputs": [
    {
     "name": "stdout",
     "output_type": "stream",
     "text": [
      "WARNING:tensorflow:From /usr/local/lib/python3.6/dist-packages/tensorflow_core/python/ops/math_grad.py:1424: where (from tensorflow.python.ops.array_ops) is deprecated and will be removed in a future version.\n",
      "Instructions for updating:\n",
      "Use tf.where in 2.0, which has the same broadcast rule as np.where\n",
      "WARNING:tensorflow:From /usr/local/lib/python3.6/dist-packages/keras/backend/tensorflow_backend.py:1033: The name tf.assign_add is deprecated. Please use tf.compat.v1.assign_add instead.\n",
      "\n",
      "WARNING:tensorflow:From /usr/local/lib/python3.6/dist-packages/keras/backend/tensorflow_backend.py:1020: The name tf.assign is deprecated. Please use tf.compat.v1.assign instead.\n",
      "\n",
      "Epoch 1/125\n",
      "781/781 [==============================] - 37s 47ms/step - loss: 1.9225 - acc: 0.4245 - val_loss: 1.4551 - val_acc: 0.5400\n",
      "Epoch 2/125\n",
      "781/781 [==============================] - 28s 36ms/step - loss: 1.4648 - acc: 0.5695 - val_loss: 2.3299 - val_acc: 0.5755\n",
      "Epoch 3/125\n",
      "781/781 [==============================] - 28s 36ms/step - loss: 1.3347 - acc: 0.6245 - val_loss: 1.2090 - val_acc: 0.6606\n",
      "Epoch 4/125\n",
      "781/781 [==============================] - 28s 36ms/step - loss: 1.2388 - acc: 0.6598 - val_loss: 1.0413 - val_acc: 0.6987\n",
      "Epoch 5/125\n",
      "781/781 [==============================] - 28s 36ms/step - loss: 1.1840 - acc: 0.6784 - val_loss: 0.8719 - val_acc: 0.7360\n",
      "Epoch 6/125\n",
      "781/781 [==============================] - 28s 36ms/step - loss: 1.1748 - acc: 0.6892 - val_loss: 1.0377 - val_acc: 0.7345\n",
      "Epoch 7/125\n",
      "781/781 [==============================] - 28s 36ms/step - loss: 1.1543 - acc: 0.7032 - val_loss: 0.9659 - val_acc: 0.7398\n",
      "Epoch 8/125\n",
      "781/781 [==============================] - 28s 35ms/step - loss: 1.1112 - acc: 0.7146 - val_loss: 1.0748 - val_acc: 0.7208\n",
      "Epoch 9/125\n",
      "781/781 [==============================] - 28s 36ms/step - loss: 1.1080 - acc: 0.7236 - val_loss: 0.7981 - val_acc: 0.7735\n",
      "Epoch 10/125\n",
      "781/781 [==============================] - 28s 35ms/step - loss: 1.0802 - acc: 0.7334 - val_loss: 0.8542 - val_acc: 0.7752\n",
      "Epoch 11/125\n",
      "781/781 [==============================] - 28s 36ms/step - loss: 1.0447 - acc: 0.7387 - val_loss: 0.8422 - val_acc: 0.7769\n",
      "Epoch 12/125\n",
      "781/781 [==============================] - 28s 36ms/step - loss: 1.0603 - acc: 0.7442 - val_loss: 1.0499 - val_acc: 0.7501\n",
      "Epoch 13/125\n",
      "781/781 [==============================] - 28s 36ms/step - loss: 1.0285 - acc: 0.7502 - val_loss: 1.1713 - val_acc: 0.7537\n",
      "Epoch 14/125\n",
      "781/781 [==============================] - 28s 36ms/step - loss: 1.0716 - acc: 0.7469 - val_loss: 1.6072 - val_acc: 0.7209\n",
      "Epoch 15/125\n",
      "781/781 [==============================] - 27s 35ms/step - loss: 1.0200 - acc: 0.7545 - val_loss: 1.0330 - val_acc: 0.7816\n",
      "Epoch 16/125\n",
      "781/781 [==============================] - 28s 36ms/step - loss: 1.0081 - acc: 0.7600 - val_loss: 1.0663 - val_acc: 0.7724\n",
      "Epoch 17/125\n",
      "781/781 [==============================] - 27s 35ms/step - loss: 0.9885 - acc: 0.7618 - val_loss: 1.0421 - val_acc: 0.7567\n",
      "Epoch 18/125\n",
      "781/781 [==============================] - 28s 35ms/step - loss: 0.9484 - acc: 0.7675 - val_loss: 0.9743 - val_acc: 0.7813\n",
      "Epoch 19/125\n",
      "781/781 [==============================] - 27s 35ms/step - loss: 0.9514 - acc: 0.7699 - val_loss: 0.8920 - val_acc: 0.7756\n",
      "Epoch 20/125\n",
      "781/781 [==============================] - 28s 35ms/step - loss: 0.9311 - acc: 0.7724 - val_loss: 0.9913 - val_acc: 0.7887\n",
      "Epoch 21/125\n",
      "781/781 [==============================] - 28s 36ms/step - loss: 0.9057 - acc: 0.7779 - val_loss: 0.8875 - val_acc: 0.7961\n",
      "Epoch 22/125\n",
      "781/781 [==============================] - 28s 35ms/step - loss: 0.9131 - acc: 0.7792 - val_loss: 0.7946 - val_acc: 0.7990\n",
      "Epoch 23/125\n",
      "781/781 [==============================] - 27s 35ms/step - loss: 0.8680 - acc: 0.7855 - val_loss: 0.8415 - val_acc: 0.7934\n",
      "Epoch 24/125\n",
      "781/781 [==============================] - 28s 36ms/step - loss: 0.8718 - acc: 0.7868 - val_loss: 0.7220 - val_acc: 0.8175\n",
      "Epoch 25/125\n",
      "781/781 [==============================] - 27s 35ms/step - loss: 0.8561 - acc: 0.7890 - val_loss: 0.8531 - val_acc: 0.7960\n",
      "Epoch 26/125\n",
      "781/781 [==============================] - 27s 35ms/step - loss: 0.8510 - acc: 0.7884 - val_loss: 0.6979 - val_acc: 0.8232\n",
      "Epoch 27/125\n",
      "781/781 [==============================] - 27s 35ms/step - loss: 0.8470 - acc: 0.7918 - val_loss: 0.7002 - val_acc: 0.8240\n",
      "Epoch 28/125\n",
      "781/781 [==============================] - 27s 35ms/step - loss: 0.8155 - acc: 0.7957 - val_loss: 0.7291 - val_acc: 0.8132\n",
      "Epoch 29/125\n",
      "781/781 [==============================] - 28s 36ms/step - loss: 0.7982 - acc: 0.7976 - val_loss: 0.7746 - val_acc: 0.8248\n",
      "Epoch 30/125\n",
      "781/781 [==============================] - 27s 35ms/step - loss: 0.8017 - acc: 0.7971 - val_loss: 0.7034 - val_acc: 0.8260\n",
      "Epoch 31/125\n",
      "781/781 [==============================] - 27s 35ms/step - loss: 0.7803 - acc: 0.7996 - val_loss: 0.7470 - val_acc: 0.8088\n",
      "Epoch 32/125\n",
      "781/781 [==============================] - 27s 35ms/step - loss: 0.7627 - acc: 0.8003 - val_loss: 0.8067 - val_acc: 0.7997\n",
      "Epoch 33/125\n",
      "781/781 [==============================] - 28s 36ms/step - loss: 0.7590 - acc: 0.8040 - val_loss: 0.7003 - val_acc: 0.8224\n",
      "Epoch 34/125\n",
      "781/781 [==============================] - 28s 36ms/step - loss: 0.7363 - acc: 0.8047 - val_loss: 0.6847 - val_acc: 0.8264\n",
      "Epoch 35/125\n",
      "781/781 [==============================] - 28s 36ms/step - loss: 0.7197 - acc: 0.8092 - val_loss: 0.7135 - val_acc: 0.8187\n",
      "Epoch 36/125\n",
      "781/781 [==============================] - 28s 36ms/step - loss: 0.7049 - acc: 0.8124 - val_loss: 0.7328 - val_acc: 0.8092\n",
      "Epoch 37/125\n",
      "781/781 [==============================] - 28s 36ms/step - loss: 0.6919 - acc: 0.8156 - val_loss: 0.6719 - val_acc: 0.8282\n",
      "Epoch 38/125\n",
      "781/781 [==============================] - 28s 36ms/step - loss: 0.6902 - acc: 0.8152 - val_loss: 0.7594 - val_acc: 0.8079\n",
      "Epoch 39/125\n",
      "781/781 [==============================] - 28s 36ms/step - loss: 0.6750 - acc: 0.8209 - val_loss: 0.7439 - val_acc: 0.8085\n",
      "Epoch 40/125\n",
      "781/781 [==============================] - 28s 36ms/step - loss: 0.6703 - acc: 0.8227 - val_loss: 0.6927 - val_acc: 0.8195\n",
      "Epoch 41/125\n",
      "781/781 [==============================] - 28s 36ms/step - loss: 0.6657 - acc: 0.8220 - val_loss: 0.6293 - val_acc: 0.8393\n",
      "Epoch 42/125\n",
      "781/781 [==============================] - 28s 36ms/step - loss: 0.6604 - acc: 0.8239 - val_loss: 0.7025 - val_acc: 0.8202\n",
      "Epoch 43/125\n",
      "781/781 [==============================] - 28s 35ms/step - loss: 0.6560 - acc: 0.8264 - val_loss: 0.6999 - val_acc: 0.8194\n",
      "Epoch 44/125\n",
      "781/781 [==============================] - 28s 36ms/step - loss: 0.6466 - acc: 0.8274 - val_loss: 0.6618 - val_acc: 0.8297\n",
      "Epoch 45/125\n",
      "781/781 [==============================] - 27s 35ms/step - loss: 0.6465 - acc: 0.8271 - val_loss: 0.6900 - val_acc: 0.8260\n",
      "Epoch 46/125\n",
      "781/781 [==============================] - 28s 36ms/step - loss: 0.6408 - acc: 0.8283 - val_loss: 0.6694 - val_acc: 0.8302\n",
      "Epoch 47/125\n",
      "781/781 [==============================] - 28s 35ms/step - loss: 0.6417 - acc: 0.8306 - val_loss: 0.6304 - val_acc: 0.8391\n",
      "Epoch 48/125\n",
      "781/781 [==============================] - 28s 35ms/step - loss: 0.6441 - acc: 0.8282 - val_loss: 0.6606 - val_acc: 0.8338\n",
      "Epoch 49/125\n",
      "781/781 [==============================] - 28s 35ms/step - loss: 0.6317 - acc: 0.8343 - val_loss: 0.6108 - val_acc: 0.8456\n",
      "Epoch 50/125\n",
      "781/781 [==============================] - 27s 35ms/step - loss: 0.6353 - acc: 0.8320 - val_loss: 0.6608 - val_acc: 0.8348\n",
      "Epoch 51/125\n",
      "781/781 [==============================] - 28s 35ms/step - loss: 0.6354 - acc: 0.8307 - val_loss: 0.5754 - val_acc: 0.8574\n",
      "Epoch 52/125\n",
      "781/781 [==============================] - 28s 36ms/step - loss: 0.6304 - acc: 0.8313 - val_loss: 0.5646 - val_acc: 0.8588\n",
      "Epoch 53/125\n",
      "781/781 [==============================] - 28s 35ms/step - loss: 0.6304 - acc: 0.8316 - val_loss: 0.6645 - val_acc: 0.8316\n",
      "Epoch 54/125\n",
      "781/781 [==============================] - 27s 35ms/step - loss: 0.6273 - acc: 0.8360 - val_loss: 0.5709 - val_acc: 0.8597\n",
      "Epoch 55/125\n",
      "781/781 [==============================] - 28s 36ms/step - loss: 0.6266 - acc: 0.8339 - val_loss: 0.5748 - val_acc: 0.8584\n",
      "Epoch 56/125\n",
      "781/781 [==============================] - 27s 35ms/step - loss: 0.6157 - acc: 0.8373 - val_loss: 0.6401 - val_acc: 0.8402\n",
      "Epoch 57/125\n",
      "781/781 [==============================] - 28s 36ms/step - loss: 0.6246 - acc: 0.8346 - val_loss: 0.6145 - val_acc: 0.8455\n",
      "Epoch 58/125\n",
      "781/781 [==============================] - 27s 35ms/step - loss: 0.6137 - acc: 0.8394 - val_loss: 0.6658 - val_acc: 0.8330\n",
      "Epoch 59/125\n",
      "781/781 [==============================] - 28s 35ms/step - loss: 0.6141 - acc: 0.8393 - val_loss: 0.6349 - val_acc: 0.8420\n",
      "Epoch 60/125\n",
      "781/781 [==============================] - 27s 35ms/step - loss: 0.6089 - acc: 0.8423 - val_loss: 0.6971 - val_acc: 0.8208\n",
      "Epoch 61/125\n",
      "781/781 [==============================] - 28s 35ms/step - loss: 0.6150 - acc: 0.8380 - val_loss: 0.6754 - val_acc: 0.8302\n",
      "Epoch 62/125\n",
      "781/781 [==============================] - 27s 35ms/step - loss: 0.6155 - acc: 0.8384 - val_loss: 0.6016 - val_acc: 0.8499\n",
      "Epoch 63/125\n",
      "781/781 [==============================] - 28s 35ms/step - loss: 0.6113 - acc: 0.8411 - val_loss: 0.5955 - val_acc: 0.8541\n",
      "Epoch 64/125\n",
      "781/781 [==============================] - 27s 35ms/step - loss: 0.6133 - acc: 0.8419 - val_loss: 0.6992 - val_acc: 0.8275\n",
      "Epoch 65/125\n",
      "781/781 [==============================] - 28s 35ms/step - loss: 0.6111 - acc: 0.8394 - val_loss: 0.5743 - val_acc: 0.8588\n",
      "Epoch 66/125\n",
      "781/781 [==============================] - 27s 35ms/step - loss: 0.6104 - acc: 0.8401 - val_loss: 0.6263 - val_acc: 0.8408\n",
      "Epoch 67/125\n",
      "781/781 [==============================] - 27s 35ms/step - loss: 0.6045 - acc: 0.8434 - val_loss: 0.5789 - val_acc: 0.8573\n",
      "Epoch 68/125\n",
      "781/781 [==============================] - 28s 35ms/step - loss: 0.6066 - acc: 0.8415 - val_loss: 0.6196 - val_acc: 0.8474\n",
      "Epoch 69/125\n",
      "781/781 [==============================] - 27s 35ms/step - loss: 0.6036 - acc: 0.8422 - val_loss: 0.5833 - val_acc: 0.8597\n",
      "Epoch 70/125\n",
      "781/781 [==============================] - 27s 35ms/step - loss: 0.6003 - acc: 0.8431 - val_loss: 0.6122 - val_acc: 0.8540\n",
      "Epoch 71/125\n",
      "781/781 [==============================] - 27s 34ms/step - loss: 0.6026 - acc: 0.8434 - val_loss: 0.6308 - val_acc: 0.8399\n",
      "Epoch 72/125\n",
      "781/781 [==============================] - 27s 35ms/step - loss: 0.6001 - acc: 0.8432 - val_loss: 0.5754 - val_acc: 0.8584\n",
      "Epoch 73/125\n",
      "781/781 [==============================] - 27s 35ms/step - loss: 0.6008 - acc: 0.8418 - val_loss: 0.5938 - val_acc: 0.8527\n",
      "Epoch 74/125\n",
      "781/781 [==============================] - 27s 35ms/step - loss: 0.5997 - acc: 0.8438 - val_loss: 0.5709 - val_acc: 0.8636\n",
      "Epoch 75/125\n",
      "781/781 [==============================] - 27s 35ms/step - loss: 0.6023 - acc: 0.8450 - val_loss: 0.6042 - val_acc: 0.8506\n",
      "Epoch 76/125\n",
      "781/781 [==============================] - 27s 35ms/step - loss: 0.5948 - acc: 0.8464 - val_loss: 0.5972 - val_acc: 0.8540\n",
      "Epoch 77/125\n",
      "781/781 [==============================] - 27s 35ms/step - loss: 0.5479 - acc: 0.8631 - val_loss: 0.5420 - val_acc: 0.8713\n",
      "Epoch 78/125\n",
      "781/781 [==============================] - 27s 35ms/step - loss: 0.5389 - acc: 0.8632 - val_loss: 0.5769 - val_acc: 0.8612\n",
      "Epoch 79/125\n",
      "781/781 [==============================] - 28s 36ms/step - loss: 0.5284 - acc: 0.8669 - val_loss: 0.5983 - val_acc: 0.8502\n",
      "Epoch 80/125\n",
      "781/781 [==============================] - 27s 35ms/step - loss: 0.5232 - acc: 0.8657 - val_loss: 0.5415 - val_acc: 0.8692\n",
      "Epoch 81/125\n",
      "781/781 [==============================] - 27s 35ms/step - loss: 0.5183 - acc: 0.8695 - val_loss: 0.5677 - val_acc: 0.8640\n",
      "Epoch 82/125\n",
      "781/781 [==============================] - 27s 35ms/step - loss: 0.5141 - acc: 0.8685 - val_loss: 0.5423 - val_acc: 0.8694\n",
      "Epoch 83/125\n",
      "781/781 [==============================] - 28s 35ms/step - loss: 0.5085 - acc: 0.8705 - val_loss: 0.5248 - val_acc: 0.8708\n",
      "Epoch 84/125\n",
      "781/781 [==============================] - 27s 35ms/step - loss: 0.5043 - acc: 0.8723 - val_loss: 0.5418 - val_acc: 0.8669\n",
      "Epoch 85/125\n",
      "781/781 [==============================] - 28s 35ms/step - loss: 0.4983 - acc: 0.8724 - val_loss: 0.5415 - val_acc: 0.8690\n",
      "Epoch 86/125\n",
      "781/781 [==============================] - 27s 35ms/step - loss: 0.4982 - acc: 0.8727 - val_loss: 0.5340 - val_acc: 0.8672\n",
      "Epoch 87/125\n",
      "781/781 [==============================] - 27s 35ms/step - loss: 0.4947 - acc: 0.8735 - val_loss: 0.5390 - val_acc: 0.8683\n",
      "Epoch 88/125\n",
      "781/781 [==============================] - 27s 35ms/step - loss: 0.4929 - acc: 0.8734 - val_loss: 0.5440 - val_acc: 0.8606\n",
      "Epoch 89/125\n",
      "781/781 [==============================] - 27s 35ms/step - loss: 0.4896 - acc: 0.8736 - val_loss: 0.5050 - val_acc: 0.8761\n",
      "Epoch 90/125\n",
      "781/781 [==============================] - 28s 35ms/step - loss: 0.4867 - acc: 0.8734 - val_loss: 0.5664 - val_acc: 0.8612\n",
      "Epoch 91/125\n",
      "781/781 [==============================] - 27s 35ms/step - loss: 0.4918 - acc: 0.8725 - val_loss: 0.5321 - val_acc: 0.8637\n",
      "Epoch 92/125\n",
      "781/781 [==============================] - 28s 35ms/step - loss: 0.4863 - acc: 0.8739 - val_loss: 0.5047 - val_acc: 0.8777\n",
      "Epoch 93/125\n",
      "781/781 [==============================] - 27s 35ms/step - loss: 0.4901 - acc: 0.8718 - val_loss: 0.5665 - val_acc: 0.8549\n",
      "Epoch 94/125\n",
      "781/781 [==============================] - 28s 35ms/step - loss: 0.4874 - acc: 0.8725 - val_loss: 0.5214 - val_acc: 0.8721\n",
      "Epoch 95/125\n",
      "781/781 [==============================] - 27s 35ms/step - loss: 0.4836 - acc: 0.8725 - val_loss: 0.5146 - val_acc: 0.8741\n",
      "Epoch 96/125\n",
      "781/781 [==============================] - 29s 37ms/step - loss: 0.4800 - acc: 0.8748 - val_loss: 0.4995 - val_acc: 0.8771\n",
      "Epoch 97/125\n",
      "781/781 [==============================] - 28s 35ms/step - loss: 0.4734 - acc: 0.8760 - val_loss: 0.5183 - val_acc: 0.8704\n",
      "Epoch 98/125\n",
      "781/781 [==============================] - 28s 36ms/step - loss: 0.4796 - acc: 0.8752 - val_loss: 0.5227 - val_acc: 0.8710\n",
      "Epoch 99/125\n",
      "781/781 [==============================] - 27s 35ms/step - loss: 0.4803 - acc: 0.8742 - val_loss: 0.4797 - val_acc: 0.8806\n",
      "Epoch 100/125\n",
      "781/781 [==============================] - 29s 37ms/step - loss: 0.4782 - acc: 0.8736 - val_loss: 0.5389 - val_acc: 0.8619\n",
      "Epoch 101/125\n",
      "781/781 [==============================] - 28s 36ms/step - loss: 0.4770 - acc: 0.8749 - val_loss: 0.5346 - val_acc: 0.8668\n",
      "Epoch 102/125\n",
      "781/781 [==============================] - 29s 37ms/step - loss: 0.4706 - acc: 0.8762 - val_loss: 0.5079 - val_acc: 0.8754\n",
      "Epoch 103/125\n",
      "781/781 [==============================] - 29s 37ms/step - loss: 0.4719 - acc: 0.8761 - val_loss: 0.5149 - val_acc: 0.8713\n",
      "Epoch 104/125\n",
      "781/781 [==============================] - 29s 37ms/step - loss: 0.4690 - acc: 0.8761 - val_loss: 0.5225 - val_acc: 0.8692\n",
      "Epoch 105/125\n",
      "781/781 [==============================] - 29s 37ms/step - loss: 0.4732 - acc: 0.8754 - val_loss: 0.4994 - val_acc: 0.8768\n",
      "Epoch 106/125\n",
      "781/781 [==============================] - 28s 36ms/step - loss: 0.4728 - acc: 0.8750 - val_loss: 0.4919 - val_acc: 0.8799\n",
      "Epoch 107/125\n",
      "781/781 [==============================] - 28s 36ms/step - loss: 0.4752 - acc: 0.8738 - val_loss: 0.4635 - val_acc: 0.8851\n",
      "Epoch 108/125\n",
      "781/781 [==============================] - 28s 36ms/step - loss: 0.4679 - acc: 0.8767 - val_loss: 0.5317 - val_acc: 0.8650\n",
      "Epoch 109/125\n",
      "781/781 [==============================] - 29s 37ms/step - loss: 0.4649 - acc: 0.8766 - val_loss: 0.4822 - val_acc: 0.8771\n",
      "Epoch 110/125\n",
      "781/781 [==============================] - 28s 36ms/step - loss: 0.4706 - acc: 0.8757 - val_loss: 0.5497 - val_acc: 0.8597\n",
      "Epoch 111/125\n",
      "781/781 [==============================] - 29s 37ms/step - loss: 0.4636 - acc: 0.8784 - val_loss: 0.4945 - val_acc: 0.8795\n",
      "Epoch 112/125\n",
      "781/781 [==============================] - 28s 36ms/step - loss: 0.4675 - acc: 0.8758 - val_loss: 0.4773 - val_acc: 0.8788\n",
      "Epoch 113/125\n",
      "781/781 [==============================] - 29s 37ms/step - loss: 0.4647 - acc: 0.8791 - val_loss: 0.4919 - val_acc: 0.8758\n",
      "Epoch 114/125\n",
      "781/781 [==============================] - 30s 38ms/step - loss: 0.4599 - acc: 0.8777 - val_loss: 0.5257 - val_acc: 0.8677\n",
      "Epoch 115/125\n",
      "781/781 [==============================] - 30s 39ms/step - loss: 0.4703 - acc: 0.8773 - val_loss: 0.5281 - val_acc: 0.8680\n",
      "Epoch 116/125\n",
      "781/781 [==============================] - 29s 37ms/step - loss: 0.4569 - acc: 0.8814 - val_loss: 0.5070 - val_acc: 0.8696\n",
      "Epoch 117/125\n",
      "781/781 [==============================] - 30s 38ms/step - loss: 0.4660 - acc: 0.8771 - val_loss: 0.5265 - val_acc: 0.8695\n",
      "Epoch 118/125\n",
      "781/781 [==============================] - 29s 37ms/step - loss: 0.4586 - acc: 0.8796 - val_loss: 0.5068 - val_acc: 0.8694\n",
      "Epoch 119/125\n",
      "781/781 [==============================] - 30s 38ms/step - loss: 0.4613 - acc: 0.8783 - val_loss: 0.5296 - val_acc: 0.8666\n",
      "Epoch 120/125\n",
      "781/781 [==============================] - 29s 37ms/step - loss: 0.4592 - acc: 0.8777 - val_loss: 0.4849 - val_acc: 0.8798\n",
      "Epoch 121/125\n",
      "781/781 [==============================] - 30s 38ms/step - loss: 0.4589 - acc: 0.8783 - val_loss: 0.5237 - val_acc: 0.8678\n",
      "Epoch 122/125\n",
      "781/781 [==============================] - 29s 37ms/step - loss: 0.4614 - acc: 0.8766 - val_loss: 0.4953 - val_acc: 0.8778\n",
      "Epoch 123/125\n",
      "781/781 [==============================] - 29s 38ms/step - loss: 0.4587 - acc: 0.8790 - val_loss: 0.4806 - val_acc: 0.8769\n",
      "Epoch 124/125\n",
      "781/781 [==============================] - 29s 37ms/step - loss: 0.4575 - acc: 0.8796 - val_loss: 0.4882 - val_acc: 0.8755\n",
      "Epoch 125/125\n",
      "781/781 [==============================] - 29s 38ms/step - loss: 0.4581 - acc: 0.8780 - val_loss: 0.5254 - val_acc: 0.8722\n"
     ]
    }
   ],
   "source": [
    "#training\n",
    "batch_size = 64\n",
    "\n",
    "opt_rms = keras.optimizers.rmsprop(lr=0.001,decay=1e-6)\n",
    "model.compile(loss='categorical_crossentropy', optimizer=opt_rms, metrics=['accuracy'])\n",
    "model_log = model.fit_generator(datagen.flow(x_train, y_train, batch_size=batch_size),\\\n",
    "                    steps_per_epoch=x_train.shape[0] // batch_size,epochs=125,\\\n",
    "                    verbose=1,validation_data=(x_test,y_test),callbacks=[LearningRateScheduler(lr_schedule)])"
   ]
  },
  {
   "cell_type": "code",
   "execution_count": 0,
   "metadata": {
    "colab": {
     "base_uri": "https://localhost:8080/",
     "height": 34
    },
    "colab_type": "code",
    "id": "nxczlb0ZPBQA",
    "outputId": "b15c08ae-a126-4f7e-863b-d834e97c8902"
   },
   "outputs": [
    {
     "name": "stdout",
     "output_type": "stream",
     "text": [
      "Accuracy is: 87.22\n"
     ]
    }
   ],
   "source": [
    "#model’s performance on test data:\n",
    "y_pred = model.predict(x_test)\n",
    "#Converting predictions to label\n",
    "pred = list()\n",
    "for i in range(len(y_pred)):\n",
    "    pred.append(np.argmax(y_pred[i]))\n",
    "#Converting one hot encoded test label to label\n",
    "test = list()\n",
    "for i in range(len(y_test)):\n",
    "    test.append(np.argmax(y_test[i]))\n",
    "\n",
    "#accuracy score\n",
    "from sklearn.metrics import accuracy_score\n",
    "a = accuracy_score(pred,test)\n",
    "print('Accuracy is:', a*100)"
   ]
  },
  {
   "cell_type": "code",
   "execution_count": 0,
   "metadata": {
    "colab": {
     "base_uri": "https://localhost:8080/",
     "height": 295
    },
    "colab_type": "code",
    "id": "5FqrVSmjR6-f",
    "outputId": "9c4ffa0e-02c5-4ee1-f285-c25f76071bc9"
   },
   "outputs": [
    {
     "data": {
      "image/png": "[encoded data removed]",
      "text/plain": [
       "<Figure size 432x288 with 1 Axes>"
      ]
     },
     "metadata": {
      "tags": []
     },
     "output_type": "display_data"
    }
   ],
   "source": [
    "import matplotlib.pyplot as plt\n",
    "plt.plot(model_log.history['acc'])\n",
    "plt.plot(model_log.history['val_acc'])\n",
    "plt.title('Model accuracy')\n",
    "plt.ylabel('Accuracy')\n",
    "plt.xlabel('Epoch')\n",
    "plt.legend(['Train', 'Test'], loc='upper left')\n",
    "plt.show()"
   ]
  },
  {
   "cell_type": "code",
   "execution_count": 0,
   "metadata": {
    "colab": {
     "base_uri": "https://localhost:8080/",
     "height": 295
    },
    "colab_type": "code",
    "id": "Ev9wB3vPR8Rg",
    "outputId": "7c1556f4-5627-4e02-9f26-dd84aae3910f"
   },
   "outputs": [
    {
     "data": {
      "image/png": "[encoded data removed]",
      "text/plain": [
       "<Figure size 432x288 with 1 Axes>"
      ]
     },
     "metadata": {
      "tags": []
     },
     "output_type": "display_data"
    }
   ],
   "source": [
    "plt.plot(model_log.history['loss']) \n",
    "plt.plot(model_log.history['val_loss']) \n",
    "plt.title('Model loss') \n",
    "plt.ylabel('Loss') \n",
    "plt.xlabel('Epoch') \n",
    "plt.legend(['Train', 'Test'], loc='upper left') \n",
    "plt.show()"
   ]
  },
  {
   "cell_type": "code",
   "execution_count": 0,
   "metadata": {
    "colab": {},
    "colab_type": "code",
    "id": "7KRKA-9hR9zI"
   },
   "outputs": [],
   "source": [
    "x xx  "
   ]
  }
 ],
 "metadata": {
  "accelerator": "GPU",
  "colab": {
   "name": "cifar_with_relu",
   "provenance": []
  },
  "kernelspec": {
   "display_name": "Python 3",
   "language": "python",
   "name": "python3"
  },
  "language_info": {
   "codemirror_mode": {
    "name": "ipython",
    "version": 3
   },
   "file_extension": ".py",
   "mimetype": "text/x-python",
   "name": "python",
   "nbconvert_exporter": "python",
   "pygments_lexer": "ipython3",
   "version": "3.7.3"
  }
 },
 "nbformat": 4,
 "nbformat_minor": 1
}
